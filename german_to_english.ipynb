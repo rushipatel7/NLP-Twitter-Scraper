{
  "nbformat": 4,
  "nbformat_minor": 0,
  "metadata": {
    "kernelspec": {
      "display_name": "Python 3",
      "language": "python",
      "name": "python3"
    },
    "language_info": {
      "codemirror_mode": {
        "name": "ipython",
        "version": 3
      },
      "file_extension": ".py",
      "mimetype": "text/x-python",
      "name": "python",
      "nbconvert_exporter": "python",
      "pygments_lexer": "ipython3",
      "version": "3.6.8"
    },
    "colab": {
      "name": "german_to_english.ipynb",
      "provenance": [],
      "toc_visible": true
    },
    "accelerator": "GPU"
  },
  "cells": [
    {
      "cell_type": "markdown",
      "metadata": {
        "id": "r4qjf38O4pgf"
      },
      "source": [
        "### Import Required Libraries"
      ]
    },
    {
      "cell_type": "code",
      "metadata": {
        "id": "XioSleS24pgn"
      },
      "source": [
        "import string\n",
        "import re\n",
        "from numpy import array, argmax, random, take\n",
        "import pandas as pd\n",
        "from keras.models import Sequential\n",
        "from keras.layers import Dense, LSTM, Embedding, Bidirectional, RepeatVector, TimeDistributed\n",
        "from keras.preprocessing.text import Tokenizer\n",
        "from keras.callbacks import ModelCheckpoint\n",
        "from keras.preprocessing.sequence import pad_sequences\n",
        "from keras.models import load_model\n",
        "from keras import optimizers\n",
        "import matplotlib.pyplot as plt\n",
        "%matplotlib inline\n",
        "pd.set_option('display.max_colwidth', 200)"
      ],
      "execution_count": 1,
      "outputs": []
    },
    {
      "cell_type": "code",
      "metadata": {
        "colab": {
          "base_uri": "https://localhost:8080/"
        },
        "id": "3XLr_QRS5Tv_",
        "outputId": "2383016c-66c3-4397-9758-2d38fc94b4fa"
      },
      "source": [
        "from google.colab import drive\r\n",
        "drive.mount('/content/gdrive', force_remount=True)"
      ],
      "execution_count": 2,
      "outputs": [
        {
          "output_type": "stream",
          "text": [
            "Mounted at /content/gdrive\n"
          ],
          "name": "stdout"
        }
      ]
    },
    {
      "cell_type": "markdown",
      "metadata": {
        "id": "hosYDZKG4pgo"
      },
      "source": [
        "### Read Data"
      ]
    },
    {
      "cell_type": "markdown",
      "metadata": {
        "id": "BB4NMgET4pgo"
      },
      "source": [
        "Our data is a text file of English-German sentence pairs. First we will read the file using the function defined below."
      ]
    },
    {
      "cell_type": "code",
      "metadata": {
        "id": "Ht2s1GZD4pgo"
      },
      "source": [
        "# function to read raw text file\n",
        "def read_text(filename):\n",
        "    # open the file\n",
        "    file = open(filename, mode='rt', encoding='utf-8')\n",
        "    # read all text\n",
        "    text = file.read()\n",
        "    file.close()\n",
        "    return text"
      ],
      "execution_count": 3,
      "outputs": []
    },
    {
      "cell_type": "markdown",
      "metadata": {
        "id": "SdZfUw4B4pgp"
      },
      "source": [
        "Now let's define a function to split the text into English-German pairs separated by '\\n' and then split these pairs into English sentences and German sentences."
      ]
    },
    {
      "cell_type": "code",
      "metadata": {
        "id": "kLx-Pa5e4pgp"
      },
      "source": [
        "# split a text into sentences\n",
        "def to_lines(text):\n",
        "    sents = text.strip().split('\\n')\n",
        "    sents = [i.split('\\t') for i in sents]\n",
        "    return sents"
      ],
      "execution_count": 4,
      "outputs": []
    },
    {
      "cell_type": "markdown",
      "metadata": {
        "id": "xyesUEdK4pgp"
      },
      "source": [
        "__Download the data from [here.](http://www.manythings.org/anki/deu-eng.zip)__ and extract \"deu.txt\" in your working directory."
      ]
    },
    {
      "cell_type": "code",
      "metadata": {
        "id": "KwEwTzM94pgq"
      },
      "source": [
        "data = read_text(\"gdrive/My Drive/Colab Notebooks/deu.txt\")\n",
        "deu_eng = to_lines(data)\n",
        "deu_eng = array(deu_eng)"
      ],
      "execution_count": 5,
      "outputs": []
    },
    {
      "cell_type": "markdown",
      "metadata": {
        "id": "Bxr7W_zI4pgq"
      },
      "source": [
        "The actual data contains over 150,000 sentence-pairs. However, we will use the first 50,000 sentence pairs only to reduce the training time of the model. You can change this number as per you system computation power."
      ]
    },
    {
      "cell_type": "code",
      "metadata": {
        "id": "bI19wAb34pgq"
      },
      "source": [
        "deu_eng = deu_eng[:50000,:]"
      ],
      "execution_count": 7,
      "outputs": []
    },
    {
      "cell_type": "markdown",
      "metadata": {
        "id": "xsf66pAc4pgq"
      },
      "source": [
        "### Text Pre-Processing"
      ]
    },
    {
      "cell_type": "markdown",
      "metadata": {
        "id": "tfI9fPTl4pgr"
      },
      "source": [
        "#### Text Cleaning\n",
        "\n",
        "Let's take a look at our data, then we will decide which pre-processing steps to adopt."
      ]
    },
    {
      "cell_type": "code",
      "metadata": {
        "scrolled": true,
        "colab": {
          "base_uri": "https://localhost:8080/"
        },
        "id": "HcHpPLUh4pgr",
        "outputId": "8e8bd505-59b3-4209-b089-9600b63fb2d3"
      },
      "source": [
        "deu_eng"
      ],
      "execution_count": 8,
      "outputs": [
        {
          "output_type": "execute_result",
          "data": {
            "text/plain": [
              "array([['Go.', 'Geh.',\n",
              "        'CC-BY 2.0 (France) Attribution: tatoeba.org #2877272 (CM) & #8597805 (Roujin)'],\n",
              "       ['Hi.', 'Hallo!',\n",
              "        'CC-BY 2.0 (France) Attribution: tatoeba.org #538123 (CM) & #380701 (cburgmer)'],\n",
              "       ['Hi.', 'Grüß Gott!',\n",
              "        'CC-BY 2.0 (France) Attribution: tatoeba.org #538123 (CM) & #659813 (Esperantostern)'],\n",
              "       ...,\n",
              "       ['It gave me the creeps.', 'Ich bekam davon Gänsehaut.',\n",
              "        'CC-BY 2.0 (France) Attribution: tatoeba.org #42354 (CK) & #2143533 (Tamy)'],\n",
              "       ['It happened in Boston.', 'Es ist in Boston passiert.',\n",
              "        'CC-BY 2.0 (France) Attribution: tatoeba.org #6845115 (CK) & #7482756 (Luiaard)'],\n",
              "       ['It happened last year.', 'Es passierte letztes Jahr.',\n",
              "        'CC-BY 2.0 (France) Attribution: tatoeba.org #5751805 (Catriona) & #5751840 (wolfgangth)']],\n",
              "      dtype='<U537')"
            ]
          },
          "metadata": {
            "tags": []
          },
          "execution_count": 8
        }
      ]
    },
    {
      "cell_type": "markdown",
      "metadata": {
        "id": "lMWXQiBI4pgs"
      },
      "source": [
        "We will get rid of the punctuation marks, and then convert the text to lower case."
      ]
    },
    {
      "cell_type": "code",
      "metadata": {
        "id": "2KxhwIRD4pgs"
      },
      "source": [
        "# Remove punctuation\n",
        "deu_eng[:,0] = [s.translate(str.maketrans('', '', string.punctuation)) for s in deu_eng[:,0]]\n",
        "deu_eng[:,1] = [s.translate(str.maketrans('', '', string.punctuation)) for s in deu_eng[:,1]]"
      ],
      "execution_count": 9,
      "outputs": []
    },
    {
      "cell_type": "code",
      "metadata": {
        "colab": {
          "base_uri": "https://localhost:8080/"
        },
        "id": "Mm6Dn5wZ4pgs",
        "outputId": "c7815163-8729-46e7-ddff-9dd296e5b09e"
      },
      "source": [
        "deu_eng"
      ],
      "execution_count": 10,
      "outputs": [
        {
          "output_type": "execute_result",
          "data": {
            "text/plain": [
              "array([['Go', 'Geh',\n",
              "        'CC-BY 2.0 (France) Attribution: tatoeba.org #2877272 (CM) & #8597805 (Roujin)'],\n",
              "       ['Hi', 'Hallo',\n",
              "        'CC-BY 2.0 (France) Attribution: tatoeba.org #538123 (CM) & #380701 (cburgmer)'],\n",
              "       ['Hi', 'Grüß Gott',\n",
              "        'CC-BY 2.0 (France) Attribution: tatoeba.org #538123 (CM) & #659813 (Esperantostern)'],\n",
              "       ...,\n",
              "       ['It gave me the creeps', 'Ich bekam davon Gänsehaut',\n",
              "        'CC-BY 2.0 (France) Attribution: tatoeba.org #42354 (CK) & #2143533 (Tamy)'],\n",
              "       ['It happened in Boston', 'Es ist in Boston passiert',\n",
              "        'CC-BY 2.0 (France) Attribution: tatoeba.org #6845115 (CK) & #7482756 (Luiaard)'],\n",
              "       ['It happened last year', 'Es passierte letztes Jahr',\n",
              "        'CC-BY 2.0 (France) Attribution: tatoeba.org #5751805 (Catriona) & #5751840 (wolfgangth)']],\n",
              "      dtype='<U537')"
            ]
          },
          "metadata": {
            "tags": []
          },
          "execution_count": 10
        }
      ]
    },
    {
      "cell_type": "code",
      "metadata": {
        "scrolled": true,
        "id": "_DAkywRc4pgt"
      },
      "source": [
        "# convert to lowercase\n",
        "for i in range(len(deu_eng)):\n",
        "    deu_eng[i,0] = deu_eng[i,0].lower()\n",
        "    \n",
        "    deu_eng[i,1] = deu_eng[i,1].lower()"
      ],
      "execution_count": 11,
      "outputs": []
    },
    {
      "cell_type": "code",
      "metadata": {
        "colab": {
          "base_uri": "https://localhost:8080/"
        },
        "id": "arwlxUL74pgt",
        "outputId": "a3c46264-f5a4-4216-b1b5-5ad2c67582d2"
      },
      "source": [
        "deu_eng"
      ],
      "execution_count": 12,
      "outputs": [
        {
          "output_type": "execute_result",
          "data": {
            "text/plain": [
              "array([['go', 'geh',\n",
              "        'CC-BY 2.0 (France) Attribution: tatoeba.org #2877272 (CM) & #8597805 (Roujin)'],\n",
              "       ['hi', 'hallo',\n",
              "        'CC-BY 2.0 (France) Attribution: tatoeba.org #538123 (CM) & #380701 (cburgmer)'],\n",
              "       ['hi', 'grüß gott',\n",
              "        'CC-BY 2.0 (France) Attribution: tatoeba.org #538123 (CM) & #659813 (Esperantostern)'],\n",
              "       ...,\n",
              "       ['it gave me the creeps', 'ich bekam davon gänsehaut',\n",
              "        'CC-BY 2.0 (France) Attribution: tatoeba.org #42354 (CK) & #2143533 (Tamy)'],\n",
              "       ['it happened in boston', 'es ist in boston passiert',\n",
              "        'CC-BY 2.0 (France) Attribution: tatoeba.org #6845115 (CK) & #7482756 (Luiaard)'],\n",
              "       ['it happened last year', 'es passierte letztes jahr',\n",
              "        'CC-BY 2.0 (France) Attribution: tatoeba.org #5751805 (Catriona) & #5751840 (wolfgangth)']],\n",
              "      dtype='<U537')"
            ]
          },
          "metadata": {
            "tags": []
          },
          "execution_count": 12
        }
      ]
    },
    {
      "cell_type": "markdown",
      "metadata": {
        "id": "x1-7YjTe4pgt"
      },
      "source": [
        "#### Text to Sequence Conversion\n",
        "\n",
        "To feed our data in a Seq2Seq model, we will have to convert both the input and the output sentences into integer sequences of fixed length. Before that, let's visualise the length of the sentences. We will capture the lengths of all the sentences in two separate lists for English and German, respectively."
      ]
    },
    {
      "cell_type": "code",
      "metadata": {
        "id": "Y2UW8BwP4pgu"
      },
      "source": [
        "# empty lists\n",
        "eng_l = []\n",
        "deu_l = []\n",
        "\n",
        "# populate the lists with sentence lengths\n",
        "for i in deu_eng[:,0]:\n",
        "    eng_l.append(len(i.split()))\n",
        "\n",
        "for i in deu_eng[:,1]:\n",
        "    deu_l.append(len(i.split()))"
      ],
      "execution_count": null,
      "outputs": []
    },
    {
      "cell_type": "code",
      "metadata": {
        "id": "HR72CZny4pgu"
      },
      "source": [
        "length_df = pd.DataFrame({'eng':eng_l, 'deu':deu_l})"
      ],
      "execution_count": null,
      "outputs": []
    },
    {
      "cell_type": "code",
      "metadata": {
        "id": "6onedMFM4pgu",
        "outputId": "6a905e87-87f1-420d-a31d-4070f7ff2203"
      },
      "source": [
        "length_df.hist(bins = 30)\n",
        "plt.show()"
      ],
      "execution_count": null,
      "outputs": [
        {
          "output_type": "display_data",
          "data": {
            "image/png": "[encoded data removed]",
            "text/plain": [
              "<Figure size 432x288 with 2 Axes>"
            ]
          },
          "metadata": {
            "tags": [],
            "needs_background": "light"
          }
        }
      ]
    },
    {
      "cell_type": "markdown",
      "metadata": {
        "id": "smO6of9_4pgu"
      },
      "source": [
        "The maximum length of the German sentences is 11 and that of the English phrases is 8."
      ]
    },
    {
      "cell_type": "markdown",
      "metadata": {
        "id": "Dje83tO94pgu"
      },
      "source": [
        "Let's vectorize our text data by using Keras's Tokenizer() class. It will turn our sentences into sequences of integers. Then we will pad those sequences with zeros to make all the sequences of same length."
      ]
    },
    {
      "cell_type": "code",
      "metadata": {
        "id": "iIcTqtA94pgv"
      },
      "source": [
        "# function to build a tokenizer\n",
        "def tokenization(lines):\n",
        "    tokenizer = Tokenizer()\n",
        "    tokenizer.fit_on_texts(lines)\n",
        "    return tokenizer"
      ],
      "execution_count": null,
      "outputs": []
    },
    {
      "cell_type": "code",
      "metadata": {
        "id": "qvTMD5174pgv",
        "outputId": "cd08e562-adc5-491d-e03c-faad15fe796e"
      },
      "source": [
        "# prepare english tokenizer\n",
        "eng_tokenizer = tokenization(deu_eng[:, 0])\n",
        "eng_vocab_size = len(eng_tokenizer.word_index) + 1\n",
        "\n",
        "eng_length = 8\n",
        "print('English Vocabulary Size: %d' % eng_vocab_size)"
      ],
      "execution_count": null,
      "outputs": [
        {
          "output_type": "stream",
          "text": [
            "English Vocabulary Size: 6238\n"
          ],
          "name": "stdout"
        }
      ]
    },
    {
      "cell_type": "code",
      "metadata": {
        "id": "3Y_EnniB4pgv",
        "outputId": "81a13937-3b55-46db-b23c-04593fda39dc"
      },
      "source": [
        "# prepare Deutch tokenizer\n",
        "deu_tokenizer = tokenization(deu_eng[:, 1])\n",
        "deu_vocab_size = len(deu_tokenizer.word_index) + 1\n",
        "\n",
        "deu_length = 8\n",
        "print('Deutch Vocabulary Size: %d' % deu_vocab_size)"
      ],
      "execution_count": null,
      "outputs": [
        {
          "output_type": "stream",
          "text": [
            "Deutch Vocabulary Size: 10336\n"
          ],
          "name": "stdout"
        }
      ]
    },
    {
      "cell_type": "markdown",
      "metadata": {
        "id": "AjKpWiUG4pgw"
      },
      "source": [
        "Given below is a function to prepare the sequences. It will also perform sequence padding to a maximum sentence length as mentioned above. "
      ]
    },
    {
      "cell_type": "code",
      "metadata": {
        "id": "qIZHZvmU4pgw"
      },
      "source": [
        "# encode and pad sequences\n",
        "def encode_sequences(tokenizer, length, lines):\n",
        "    # integer encode sequences\n",
        "    seq = tokenizer.texts_to_sequences(lines)\n",
        "    # pad sequences with 0 values\n",
        "    seq = pad_sequences(seq, maxlen=length, padding='post')\n",
        "    return seq"
      ],
      "execution_count": null,
      "outputs": []
    },
    {
      "cell_type": "markdown",
      "metadata": {
        "id": "HevIkJm74pgw"
      },
      "source": [
        "### Model Building"
      ]
    },
    {
      "cell_type": "markdown",
      "metadata": {
        "id": "3jBy7Le04pgw"
      },
      "source": [
        "We will now split the data into train and test set for model training and evaluation, respectively."
      ]
    },
    {
      "cell_type": "code",
      "metadata": {
        "id": "_50n66qo4pgw"
      },
      "source": [
        "from sklearn.model_selection import train_test_split\n",
        "train, test = train_test_split(deu_eng, test_size=0.2, random_state = 12)"
      ],
      "execution_count": 13,
      "outputs": []
    },
    {
      "cell_type": "code",
      "metadata": {
        "id": "JMsdRS9cJ7gT"
      },
      "source": [
        "# encode and pad sequences\r\n",
        "def encode_sequences(tokenizer, length, lines):\r\n",
        "         # integer encode sequences\r\n",
        "         seq = tokenizer.texts_to_sequences(lines)\r\n",
        "         # pad sequences with 0 values\r\n",
        "         seq = pad_sequences(seq, maxlen=length, padding='post')\r\n",
        "         return seq"
      ],
      "execution_count": 14,
      "outputs": []
    },
    {
      "cell_type": "code",
      "metadata": {
        "id": "tc-UsiMkKjNi"
      },
      "source": [
        "def tokenization(lines):\r\n",
        "      tokenizer = Tokenizer()\r\n",
        "      tokenizer.fit_on_texts(lines)\r\n",
        "      return tokenizer"
      ],
      "execution_count": 15,
      "outputs": []
    },
    {
      "cell_type": "code",
      "metadata": {
        "colab": {
          "base_uri": "https://localhost:8080/"
        },
        "id": "X4qd6MzeKacC",
        "outputId": "929b6ae2-8b91-4b9f-e2a4-7094a86e22f7"
      },
      "source": [
        "deu_tokenizer = tokenization(deu_eng[:, 1])\r\n",
        "deu_vocab_size = len(deu_tokenizer.word_index) + 1\r\n",
        "\r\n",
        "deu_length = 8\r\n",
        "print('Deutch Vocabulary Size: %d' % deu_vocab_size)"
      ],
      "execution_count": 16,
      "outputs": [
        {
          "output_type": "stream",
          "text": [
            "Deutch Vocabulary Size: 10326\n"
          ],
          "name": "stdout"
        }
      ]
    },
    {
      "cell_type": "code",
      "metadata": {
        "colab": {
          "base_uri": "https://localhost:8080/"
        },
        "id": "osGk7_XzLC7A",
        "outputId": "5befb7ac-261b-4dde-832d-3ac691b2270f"
      },
      "source": [
        "eng_tokenizer = tokenization(deu_eng[:, 0])\r\n",
        "eng_vocab_size = len(eng_tokenizer.word_index) + 1\r\n",
        "\r\n",
        "eng_length = 8\r\n",
        "print('English Vocabulary Size: %d' % eng_vocab_size)"
      ],
      "execution_count": 17,
      "outputs": [
        {
          "output_type": "stream",
          "text": [
            "English Vocabulary Size: 6241\n"
          ],
          "name": "stdout"
        }
      ]
    },
    {
      "cell_type": "markdown",
      "metadata": {
        "id": "wOw81KCw4pgx"
      },
      "source": [
        "It's time to encode the sentences. We will encode German sentences as the input sequences and English sentences as the target sequences. It will be done for both train and test datasets."
      ]
    },
    {
      "cell_type": "code",
      "metadata": {
        "id": "6ZGRNndP4pgx"
      },
      "source": [
        "# prepare training data\n",
        "trainX = encode_sequences(deu_tokenizer, deu_length, train[:, 1])\n",
        "trainY = encode_sequences(eng_tokenizer, eng_length, train[:, 0])"
      ],
      "execution_count": 18,
      "outputs": []
    },
    {
      "cell_type": "code",
      "metadata": {
        "id": "M5StmdxP4pgx"
      },
      "source": [
        "# prepare validation data\n",
        "testX = encode_sequences(deu_tokenizer, deu_length, test[:, 1])\n",
        "testY = encode_sequences(eng_tokenizer, eng_length, test[:, 0])"
      ],
      "execution_count": 19,
      "outputs": []
    },
    {
      "cell_type": "markdown",
      "metadata": {
        "id": "G-LdHQSQ4pgx"
      },
      "source": [
        "Now comes the exciting part! Let us define our Seq2Seq model architecture. We are using an Embedding layer and an LSTM layer as our encoder and another LSTM layer followed by a Dense layer as the decoder.  "
      ]
    },
    {
      "cell_type": "code",
      "metadata": {
        "id": "AGqXMoXH4pgx"
      },
      "source": [
        "# build NMT model\n",
        "def build_model(in_vocab, out_vocab, in_timesteps, out_timesteps, units):\n",
        "    model = Sequential()\n",
        "    model.add(Embedding(in_vocab, units, input_length=in_timesteps, mask_zero=True))\n",
        "    model.add(LSTM(units))\n",
        "    model.add(RepeatVector(out_timesteps))\n",
        "    model.add(LSTM(units, return_sequences=True))\n",
        "    model.add(Dense(out_vocab, activation='softmax'))\n",
        "    return model"
      ],
      "execution_count": 20,
      "outputs": []
    },
    {
      "cell_type": "markdown",
      "metadata": {
        "id": "NKIAVOHh4pgy"
      },
      "source": [
        "We are using RMSprop optimizer in this model as it is usually a good choice for recurrent neural networks."
      ]
    },
    {
      "cell_type": "code",
      "metadata": {
        "id": "XTU-_rid4pgy"
      },
      "source": [
        "model = build_model(deu_vocab_size, eng_vocab_size, deu_length, eng_length, 512)\n",
        "rms = optimizers.RMSprop(lr=0.001)\n",
        "model.compile(optimizer=rms, loss='sparse_categorical_crossentropy')"
      ],
      "execution_count": 21,
      "outputs": []
    },
    {
      "cell_type": "markdown",
      "metadata": {
        "id": "KM31iYVo4pgz"
      },
      "source": [
        "Please note that we have used __'sparse_categorical_crossentropy'__ as the loss function because it allows us to use the target sequence as it is instead of one hot encoded format. One hot encoding the target sequences with such a huge vocabulary might consume our system's entire memory."
      ]
    },
    {
      "cell_type": "markdown",
      "metadata": {
        "id": "SsTlEceb4pgz"
      },
      "source": [
        "It seems we are all set to start training our model. We will train it for 30 epochs and with a batch size of 512. You may change and play these hyperparameters. We will also be using __ModelCheckpoint()__ to save the best model with lowest validation loss. I personally prefer this method over early stopping."
      ]
    },
    {
      "cell_type": "code",
      "metadata": {
        "scrolled": true,
        "colab": {
          "base_uri": "https://localhost:8080/"
        },
        "id": "KRIsbrog4pgz",
        "outputId": "1b6c4a71-adf9-418d-ba51-b8af2e00aa9c"
      },
      "source": [
        "filename = 'model.h1.24_jan_19'\n",
        "checkpoint = ModelCheckpoint(filename, monitor='val_loss', verbose=1, save_best_only=True, mode='min')\n",
        "\n",
        "history = model.fit(trainX, trainY.reshape(trainY.shape[0], trainY.shape[1], 1), \n",
        "          epochs=30, batch_size=512, \n",
        "          validation_split = 0.2,\n",
        "          callbacks=[checkpoint], verbose=1)"
      ],
      "execution_count": 22,
      "outputs": [
        {
          "output_type": "stream",
          "text": [
            "Epoch 1/30\n",
            "63/63 [==============================] - ETA: 0s - loss: 3.4143\n",
            "Epoch 00001: val_loss improved from inf to 2.84308, saving model to model.h1.24_jan_19\n",
            "WARNING:tensorflow:From /usr/local/lib/python3.6/dist-packages/tensorflow/python/training/tracking/tracking.py:111: Model.state_updates (from tensorflow.python.keras.engine.training) is deprecated and will be removed in a future version.\n",
            "Instructions for updating:\n",
            "This property should not be used in TensorFlow 2.0, as updates are applied automatically.\n",
            "WARNING:tensorflow:From /usr/local/lib/python3.6/dist-packages/tensorflow/python/training/tracking/tracking.py:111: Layer.updates (from tensorflow.python.keras.engine.base_layer) is deprecated and will be removed in a future version.\n",
            "Instructions for updating:\n",
            "This property should not be used in TensorFlow 2.0, as updates are applied automatically.\n",
            "INFO:tensorflow:Assets written to: model.h1.24_jan_19/assets\n",
            "63/63 [==============================] - 22s 351ms/step - loss: 3.4143 - val_loss: 2.8431\n",
            "Epoch 2/30\n",
            "63/63 [==============================] - ETA: 0s - loss: 2.7669\n",
            "Epoch 00002: val_loss improved from 2.84308 to 2.71658, saving model to model.h1.24_jan_19\n",
            "INFO:tensorflow:Assets written to: model.h1.24_jan_19/assets\n",
            "63/63 [==============================] - 21s 331ms/step - loss: 2.7669 - val_loss: 2.7166\n",
            "Epoch 3/30\n",
            "63/63 [==============================] - ETA: 0s - loss: 2.5883\n",
            "Epoch 00003: val_loss improved from 2.71658 to 2.54598, saving model to model.h1.24_jan_19\n",
            "INFO:tensorflow:Assets written to: model.h1.24_jan_19/assets\n",
            "63/63 [==============================] - 21s 339ms/step - loss: 2.5883 - val_loss: 2.5460\n",
            "Epoch 4/30\n",
            "63/63 [==============================] - ETA: 0s - loss: 2.4087\n",
            "Epoch 00004: val_loss improved from 2.54598 to 2.40366, saving model to model.h1.24_jan_19\n",
            "INFO:tensorflow:Assets written to: model.h1.24_jan_19/assets\n",
            "63/63 [==============================] - 21s 333ms/step - loss: 2.4087 - val_loss: 2.4037\n",
            "Epoch 5/30\n",
            "63/63 [==============================] - ETA: 0s - loss: 2.2706\n",
            "Epoch 00005: val_loss improved from 2.40366 to 2.30666, saving model to model.h1.24_jan_19\n",
            "INFO:tensorflow:Assets written to: model.h1.24_jan_19/assets\n",
            "63/63 [==============================] - 21s 333ms/step - loss: 2.2706 - val_loss: 2.3067\n",
            "Epoch 6/30\n",
            "63/63 [==============================] - ETA: 0s - loss: 2.1400\n",
            "Epoch 00006: val_loss improved from 2.30666 to 2.19678, saving model to model.h1.24_jan_19\n",
            "INFO:tensorflow:Assets written to: model.h1.24_jan_19/assets\n",
            "63/63 [==============================] - 21s 334ms/step - loss: 2.1400 - val_loss: 2.1968\n",
            "Epoch 7/30\n",
            "63/63 [==============================] - ETA: 0s - loss: 2.0192\n",
            "Epoch 00007: val_loss improved from 2.19678 to 2.10961, saving model to model.h1.24_jan_19\n",
            "INFO:tensorflow:Assets written to: model.h1.24_jan_19/assets\n",
            "63/63 [==============================] - 21s 338ms/step - loss: 2.0192 - val_loss: 2.1096\n",
            "Epoch 8/30\n",
            "63/63 [==============================] - ETA: 0s - loss: 1.9060\n",
            "Epoch 00008: val_loss improved from 2.10961 to 2.03095, saving model to model.h1.24_jan_19\n",
            "INFO:tensorflow:Assets written to: model.h1.24_jan_19/assets\n",
            "63/63 [==============================] - 21s 332ms/step - loss: 1.9060 - val_loss: 2.0309\n",
            "Epoch 9/30\n",
            "63/63 [==============================] - ETA: 0s - loss: 1.8018\n",
            "Epoch 00009: val_loss improved from 2.03095 to 1.95829, saving model to model.h1.24_jan_19\n",
            "INFO:tensorflow:Assets written to: model.h1.24_jan_19/assets\n",
            "63/63 [==============================] - 22s 344ms/step - loss: 1.8018 - val_loss: 1.9583\n",
            "Epoch 10/30\n",
            "63/63 [==============================] - ETA: 0s - loss: 1.7012\n",
            "Epoch 00010: val_loss improved from 1.95829 to 1.88722, saving model to model.h1.24_jan_19\n",
            "INFO:tensorflow:Assets written to: model.h1.24_jan_19/assets\n",
            "63/63 [==============================] - 21s 335ms/step - loss: 1.7012 - val_loss: 1.8872\n",
            "Epoch 11/30\n",
            "63/63 [==============================] - ETA: 0s - loss: 1.6056\n",
            "Epoch 00011: val_loss improved from 1.88722 to 1.85964, saving model to model.h1.24_jan_19\n",
            "INFO:tensorflow:Assets written to: model.h1.24_jan_19/assets\n",
            "63/63 [==============================] - 21s 334ms/step - loss: 1.6056 - val_loss: 1.8596\n",
            "Epoch 12/30\n",
            "63/63 [==============================] - ETA: 0s - loss: 1.5113\n",
            "Epoch 00012: val_loss improved from 1.85964 to 1.76802, saving model to model.h1.24_jan_19\n",
            "INFO:tensorflow:Assets written to: model.h1.24_jan_19/assets\n",
            "63/63 [==============================] - 21s 337ms/step - loss: 1.5113 - val_loss: 1.7680\n",
            "Epoch 13/30\n",
            "63/63 [==============================] - ETA: 0s - loss: 1.4197\n",
            "Epoch 00013: val_loss improved from 1.76802 to 1.71979, saving model to model.h1.24_jan_19\n",
            "INFO:tensorflow:Assets written to: model.h1.24_jan_19/assets\n",
            "63/63 [==============================] - 21s 338ms/step - loss: 1.4197 - val_loss: 1.7198\n",
            "Epoch 14/30\n",
            "63/63 [==============================] - ETA: 0s - loss: 1.3335\n",
            "Epoch 00014: val_loss improved from 1.71979 to 1.66377, saving model to model.h1.24_jan_19\n",
            "INFO:tensorflow:Assets written to: model.h1.24_jan_19/assets\n",
            "63/63 [==============================] - 21s 335ms/step - loss: 1.3335 - val_loss: 1.6638\n",
            "Epoch 15/30\n",
            "63/63 [==============================] - ETA: 0s - loss: 1.2529\n",
            "Epoch 00015: val_loss improved from 1.66377 to 1.61098, saving model to model.h1.24_jan_19\n",
            "INFO:tensorflow:Assets written to: model.h1.24_jan_19/assets\n",
            "63/63 [==============================] - 21s 331ms/step - loss: 1.2529 - val_loss: 1.6110\n",
            "Epoch 16/30\n",
            "63/63 [==============================] - ETA: 0s - loss: 1.1737\n",
            "Epoch 00016: val_loss improved from 1.61098 to 1.57971, saving model to model.h1.24_jan_19\n",
            "INFO:tensorflow:Assets written to: model.h1.24_jan_19/assets\n",
            "63/63 [==============================] - 21s 337ms/step - loss: 1.1737 - val_loss: 1.5797\n",
            "Epoch 17/30\n",
            "63/63 [==============================] - ETA: 0s - loss: 1.1012\n",
            "Epoch 00017: val_loss improved from 1.57971 to 1.54253, saving model to model.h1.24_jan_19\n",
            "INFO:tensorflow:Assets written to: model.h1.24_jan_19/assets\n",
            "63/63 [==============================] - 21s 334ms/step - loss: 1.1012 - val_loss: 1.5425\n",
            "Epoch 18/30\n",
            "63/63 [==============================] - ETA: 0s - loss: 1.0270\n",
            "Epoch 00018: val_loss improved from 1.54253 to 1.50681, saving model to model.h1.24_jan_19\n",
            "INFO:tensorflow:Assets written to: model.h1.24_jan_19/assets\n",
            "63/63 [==============================] - 21s 337ms/step - loss: 1.0270 - val_loss: 1.5068\n",
            "Epoch 19/30\n",
            "63/63 [==============================] - ETA: 0s - loss: 0.9587\n",
            "Epoch 00019: val_loss improved from 1.50681 to 1.47648, saving model to model.h1.24_jan_19\n",
            "INFO:tensorflow:Assets written to: model.h1.24_jan_19/assets\n",
            "63/63 [==============================] - 21s 332ms/step - loss: 0.9587 - val_loss: 1.4765\n",
            "Epoch 20/30\n",
            "63/63 [==============================] - ETA: 0s - loss: 0.8917\n",
            "Epoch 00020: val_loss improved from 1.47648 to 1.44974, saving model to model.h1.24_jan_19\n",
            "INFO:tensorflow:Assets written to: model.h1.24_jan_19/assets\n",
            "63/63 [==============================] - 21s 339ms/step - loss: 0.8917 - val_loss: 1.4497\n",
            "Epoch 21/30\n",
            "63/63 [==============================] - ETA: 0s - loss: 0.8287\n",
            "Epoch 00021: val_loss improved from 1.44974 to 1.44655, saving model to model.h1.24_jan_19\n",
            "INFO:tensorflow:Assets written to: model.h1.24_jan_19/assets\n",
            "63/63 [==============================] - 21s 332ms/step - loss: 0.8287 - val_loss: 1.4465\n",
            "Epoch 22/30\n",
            "63/63 [==============================] - ETA: 0s - loss: 0.7716\n",
            "Epoch 00022: val_loss improved from 1.44655 to 1.40522, saving model to model.h1.24_jan_19\n",
            "INFO:tensorflow:Assets written to: model.h1.24_jan_19/assets\n",
            "63/63 [==============================] - 21s 331ms/step - loss: 0.7716 - val_loss: 1.4052\n",
            "Epoch 23/30\n",
            "63/63 [==============================] - ETA: 0s - loss: 0.7157\n",
            "Epoch 00023: val_loss improved from 1.40522 to 1.38340, saving model to model.h1.24_jan_19\n",
            "INFO:tensorflow:Assets written to: model.h1.24_jan_19/assets\n",
            "63/63 [==============================] - 21s 335ms/step - loss: 0.7157 - val_loss: 1.3834\n",
            "Epoch 24/30\n",
            "63/63 [==============================] - ETA: 0s - loss: 0.6622\n",
            "Epoch 00024: val_loss improved from 1.38340 to 1.36452, saving model to model.h1.24_jan_19\n",
            "INFO:tensorflow:Assets written to: model.h1.24_jan_19/assets\n",
            "63/63 [==============================] - 21s 332ms/step - loss: 0.6622 - val_loss: 1.3645\n",
            "Epoch 25/30\n",
            "63/63 [==============================] - ETA: 0s - loss: 0.6121\n",
            "Epoch 00025: val_loss improved from 1.36452 to 1.33951, saving model to model.h1.24_jan_19\n",
            "INFO:tensorflow:Assets written to: model.h1.24_jan_19/assets\n",
            "63/63 [==============================] - 21s 328ms/step - loss: 0.6121 - val_loss: 1.3395\n",
            "Epoch 26/30\n",
            "63/63 [==============================] - ETA: 0s - loss: 0.5636\n",
            "Epoch 00026: val_loss improved from 1.33951 to 1.33005, saving model to model.h1.24_jan_19\n",
            "INFO:tensorflow:Assets written to: model.h1.24_jan_19/assets\n",
            "63/63 [==============================] - 21s 329ms/step - loss: 0.5636 - val_loss: 1.3301\n",
            "Epoch 27/30\n",
            "63/63 [==============================] - ETA: 0s - loss: 0.5192\n",
            "Epoch 00027: val_loss improved from 1.33005 to 1.31818, saving model to model.h1.24_jan_19\n",
            "INFO:tensorflow:Assets written to: model.h1.24_jan_19/assets\n",
            "63/63 [==============================] - 21s 330ms/step - loss: 0.5192 - val_loss: 1.3182\n",
            "Epoch 28/30\n",
            "63/63 [==============================] - ETA: 0s - loss: 0.4804\n",
            "Epoch 00028: val_loss improved from 1.31818 to 1.30959, saving model to model.h1.24_jan_19\n",
            "INFO:tensorflow:Assets written to: model.h1.24_jan_19/assets\n",
            "63/63 [==============================] - 21s 335ms/step - loss: 0.4804 - val_loss: 1.3096\n",
            "Epoch 29/30\n",
            "63/63 [==============================] - ETA: 0s - loss: 0.4405\n",
            "Epoch 00029: val_loss did not improve from 1.30959\n",
            "63/63 [==============================] - 10s 157ms/step - loss: 0.4405 - val_loss: 1.3220\n",
            "Epoch 30/30\n",
            "63/63 [==============================] - ETA: 0s - loss: 0.4042\n",
            "Epoch 00030: val_loss improved from 1.30959 to 1.30117, saving model to model.h1.24_jan_19\n",
            "INFO:tensorflow:Assets written to: model.h1.24_jan_19/assets\n",
            "63/63 [==============================] - 21s 331ms/step - loss: 0.4042 - val_loss: 1.3012\n"
          ],
          "name": "stdout"
        }
      ]
    },
    {
      "cell_type": "markdown",
      "metadata": {
        "id": "HMtvQWLm4pgz"
      },
      "source": [
        "Let's compare the training loss and the validation loss."
      ]
    },
    {
      "cell_type": "code",
      "metadata": {
        "colab": {
          "base_uri": "https://localhost:8080/",
          "height": 265
        },
        "id": "lmPUvp3b4pg0",
        "outputId": "0918b4ce-88c3-4b06-d12e-3f740cad687e"
      },
      "source": [
        "plt.plot(history.history['loss'])\n",
        "plt.plot(history.history['val_loss'])\n",
        "plt.legend(['train','validation'])\n",
        "plt.show()"
      ],
      "execution_count": 23,
      "outputs": [
        {
          "output_type": "display_data",
          "data": {
            "image/png": "[encoded data removed]",
            "text/plain": [
              "<Figure size 432x288 with 1 Axes>"
            ]
          },
          "metadata": {
            "tags": [],
            "needs_background": "light"
          }
        }
      ]
    },
    {
      "cell_type": "markdown",
      "metadata": {
        "id": "PJ49urM84pg0"
      },
      "source": [
        "### Make Predictions"
      ]
    },
    {
      "cell_type": "markdown",
      "metadata": {
        "id": "eTM4tZmY4pg0"
      },
      "source": [
        "Let's load the saved model to make predictions."
      ]
    },
    {
      "cell_type": "code",
      "metadata": {
        "colab": {
          "base_uri": "https://localhost:8080/"
        },
        "id": "nh6oKGEO4pg1",
        "outputId": "db487eee-51c6-4649-e26a-35517b54ae3d"
      },
      "source": [
        "model = load_model('model.h1.24_jan_19')\n",
        "preds = model.predict_classes(testX.reshape((testX.shape[0],testX.shape[1])))"
      ],
      "execution_count": 24,
      "outputs": [
        {
          "output_type": "stream",
          "text": [
            "WARNING:tensorflow:From <ipython-input-24-aaf5ce307e3e>:2: Sequential.predict_classes (from tensorflow.python.keras.engine.sequential) is deprecated and will be removed after 2021-01-01.\n",
            "Instructions for updating:\n",
            "Please use instead:* `np.argmax(model.predict(x), axis=-1)`,   if your model does multi-class classification   (e.g. if it uses a `softmax` last-layer activation).* `(model.predict(x) > 0.5).astype(\"int32\")`,   if your model does binary classification   (e.g. if it uses a `sigmoid` last-layer activation).\n"
          ],
          "name": "stdout"
        }
      ]
    },
    {
      "cell_type": "code",
      "metadata": {
        "id": "q_W3ny--4pg1"
      },
      "source": [
        "def get_word(n, tokenizer):\n",
        "    for word, index in tokenizer.word_index.items():\n",
        "        if index == n:\n",
        "            return word\n",
        "    return None"
      ],
      "execution_count": 26,
      "outputs": []
    },
    {
      "cell_type": "code",
      "metadata": {
        "id": "0MvtY8WF4pg1"
      },
      "source": [
        "# convert predictions into text (English)\n",
        "preds_text = []\n",
        "for i in preds:\n",
        "    temp = []\n",
        "    for j in range(len(i)):\n",
        "        t = get_word(i[j], eng_tokenizer)\n",
        "        if j > 0:\n",
        "            if (t == get_word(i[j-1], eng_tokenizer)) or (t == None):\n",
        "                temp.append('')\n",
        "            else:\n",
        "                temp.append(t)\n",
        "             \n",
        "        else:\n",
        "            if(t == None):\n",
        "                temp.append('')\n",
        "            else:\n",
        "                temp.append(t)            \n",
        "        \n",
        "    preds_text.append(' '.join(temp))"
      ],
      "execution_count": 27,
      "outputs": []
    },
    {
      "cell_type": "code",
      "metadata": {
        "id": "cStKASKN4pg1"
      },
      "source": [
        "pred_df = pd.DataFrame({'actual' : test[:,0], 'predicted' : preds_text})"
      ],
      "execution_count": 28,
      "outputs": []
    },
    {
      "cell_type": "code",
      "metadata": {
        "id": "xYVGUiK74pg2"
      },
      "source": [
        "pd.set_option('display.max_colwidth', 200)"
      ],
      "execution_count": 29,
      "outputs": []
    },
    {
      "cell_type": "code",
      "metadata": {
        "colab": {
          "base_uri": "https://localhost:8080/",
          "height": 514
        },
        "id": "lcpYRkDp4pg2",
        "outputId": "bc74d550-cdb9-4936-dc39-87ab3bb7797b"
      },
      "source": [
        "pred_df.head(15)"
      ],
      "execution_count": 30,
      "outputs": [
        {
          "output_type": "execute_result",
          "data": {
            "text/html": [
              "<div>\n",
              "<style scoped>\n",
              "    .dataframe tbody tr th:only-of-type {\n",
              "        vertical-align: middle;\n",
              "    }\n",
              "\n",
              "    .dataframe tbody tr th {\n",
              "        vertical-align: top;\n",
              "    }\n",
              "\n",
              "    .dataframe thead th {\n",
              "        text-align: right;\n",
              "    }\n",
              "</style>\n",
              "<table border=\"1\" class=\"dataframe\">\n",
              "  <thead>\n",
              "    <tr style=\"text-align: right;\">\n",
              "      <th></th>\n",
              "      <th>actual</th>\n",
              "      <th>predicted</th>\n",
              "    </tr>\n",
              "  </thead>\n",
              "  <tbody>\n",
              "    <tr>\n",
              "      <th>0</th>\n",
              "      <td>i said good morning</td>\n",
              "      <td>i slept a night</td>\n",
              "    </tr>\n",
              "    <tr>\n",
              "      <th>1</th>\n",
              "      <td>write tom</td>\n",
              "      <td>hug tom</td>\n",
              "    </tr>\n",
              "    <tr>\n",
              "      <th>2</th>\n",
              "      <td>dogs are smart</td>\n",
              "      <td>dogs are</td>\n",
              "    </tr>\n",
              "    <tr>\n",
              "      <th>3</th>\n",
              "      <td>was tom right</td>\n",
              "      <td>was tom was</td>\n",
              "    </tr>\n",
              "    <tr>\n",
              "      <th>4</th>\n",
              "      <td>they are my brothers</td>\n",
              "      <td>these are my</td>\n",
              "    </tr>\n",
              "    <tr>\n",
              "      <th>5</th>\n",
              "      <td>i am telling a story</td>\n",
              "      <td>i see a</td>\n",
              "    </tr>\n",
              "    <tr>\n",
              "      <th>6</th>\n",
              "      <td>well give it a shot</td>\n",
              "      <td>well try to</td>\n",
              "    </tr>\n",
              "    <tr>\n",
              "      <th>7</th>\n",
              "      <td>ill try to be early</td>\n",
              "      <td>ill buy some a</td>\n",
              "    </tr>\n",
              "    <tr>\n",
              "      <th>8</th>\n",
              "      <td>schools not fun</td>\n",
              "      <td>this isnt from</td>\n",
              "    </tr>\n",
              "    <tr>\n",
              "      <th>9</th>\n",
              "      <td>its not always easy</td>\n",
              "      <td>its not</td>\n",
              "    </tr>\n",
              "    <tr>\n",
              "      <th>10</th>\n",
              "      <td>its too dark</td>\n",
              "      <td>it is dark</td>\n",
              "    </tr>\n",
              "    <tr>\n",
              "      <th>11</th>\n",
              "      <td>it happens</td>\n",
              "      <td>that</td>\n",
              "    </tr>\n",
              "    <tr>\n",
              "      <th>12</th>\n",
              "      <td>i do think so</td>\n",
              "      <td>i said</td>\n",
              "    </tr>\n",
              "    <tr>\n",
              "      <th>13</th>\n",
              "      <td>hes innocent</td>\n",
              "      <td>hes innocent</td>\n",
              "    </tr>\n",
              "    <tr>\n",
              "      <th>14</th>\n",
              "      <td>write that down</td>\n",
              "      <td>open this</td>\n",
              "    </tr>\n",
              "  </tbody>\n",
              "</table>\n",
              "</div>"
            ],
            "text/plain": [
              "                  actual            predicted\n",
              "0    i said good morning  i slept a night    \n",
              "1              write tom        hug tom      \n",
              "2         dogs are smart       dogs are      \n",
              "3          was tom right     was tom was     \n",
              "4   they are my brothers    these are my     \n",
              "5   i am telling a story         i see a     \n",
              "6    well give it a shot     well try to     \n",
              "7    ill try to be early   ill buy some a    \n",
              "8        schools not fun  this isnt from     \n",
              "9    its not always easy        its not      \n",
              "10          its too dark      it is dark     \n",
              "11            it happens          that       \n",
              "12         i do think so         i said      \n",
              "13          hes innocent   hes innocent      \n",
              "14       write that down      open this      "
            ]
          },
          "metadata": {
            "tags": []
          },
          "execution_count": 30
        }
      ]
    },
    {
      "cell_type": "code",
      "metadata": {
        "colab": {
          "base_uri": "https://localhost:8080/",
          "height": 514
        },
        "id": "TbgsFAFU4pg2",
        "outputId": "adb00df0-d4f0-4d63-e9cf-b65f21194203"
      },
      "source": [
        "pred_df.tail(15)"
      ],
      "execution_count": 31,
      "outputs": [
        {
          "output_type": "execute_result",
          "data": {
            "text/html": [
              "<div>\n",
              "<style scoped>\n",
              "    .dataframe tbody tr th:only-of-type {\n",
              "        vertical-align: middle;\n",
              "    }\n",
              "\n",
              "    .dataframe tbody tr th {\n",
              "        vertical-align: top;\n",
              "    }\n",
              "\n",
              "    .dataframe thead th {\n",
              "        text-align: right;\n",
              "    }\n",
              "</style>\n",
              "<table border=\"1\" class=\"dataframe\">\n",
              "  <thead>\n",
              "    <tr style=\"text-align: right;\">\n",
              "      <th></th>\n",
              "      <th>actual</th>\n",
              "      <th>predicted</th>\n",
              "    </tr>\n",
              "  </thead>\n",
              "  <tbody>\n",
              "    <tr>\n",
              "      <th>9985</th>\n",
              "      <td>this is all on me</td>\n",
              "      <td>i crossed the bill</td>\n",
              "    </tr>\n",
              "    <tr>\n",
              "      <th>9986</th>\n",
              "      <td>did you ever try</td>\n",
              "      <td>did you ever it yet</td>\n",
              "    </tr>\n",
              "    <tr>\n",
              "      <th>9987</th>\n",
              "      <td>i know tom is fast</td>\n",
              "      <td>i know tom is a</td>\n",
              "    </tr>\n",
              "    <tr>\n",
              "      <th>9988</th>\n",
              "      <td>where did i put it</td>\n",
              "      <td>where did i put it</td>\n",
              "    </tr>\n",
              "    <tr>\n",
              "      <th>9989</th>\n",
              "      <td>i was helping tom</td>\n",
              "      <td>i helped tom</td>\n",
              "    </tr>\n",
              "    <tr>\n",
              "      <th>9990</th>\n",
              "      <td>tom seems excited</td>\n",
              "      <td>tom seems busy</td>\n",
              "    </tr>\n",
              "    <tr>\n",
              "      <th>9991</th>\n",
              "      <td>i wont tell you</td>\n",
              "      <td>i wont tell you</td>\n",
              "    </tr>\n",
              "    <tr>\n",
              "      <th>9992</th>\n",
              "      <td>whos sick</td>\n",
              "      <td>who rich</td>\n",
              "    </tr>\n",
              "    <tr>\n",
              "      <th>9993</th>\n",
              "      <td>the auction is over</td>\n",
              "      <td>the partys over</td>\n",
              "    </tr>\n",
              "    <tr>\n",
              "      <th>9994</th>\n",
              "      <td>now we know why</td>\n",
              "      <td>we  know why</td>\n",
              "    </tr>\n",
              "    <tr>\n",
              "      <th>9995</th>\n",
              "      <td>my mailbox is full</td>\n",
              "      <td>my inbox is full</td>\n",
              "    </tr>\n",
              "    <tr>\n",
              "      <th>9996</th>\n",
              "      <td>mary is a waitress</td>\n",
              "      <td>mary is an</td>\n",
              "    </tr>\n",
              "    <tr>\n",
              "      <th>9997</th>\n",
              "      <td>i need more room</td>\n",
              "      <td>i need more</td>\n",
              "    </tr>\n",
              "    <tr>\n",
              "      <th>9998</th>\n",
              "      <td>he seems quite happy</td>\n",
              "      <td>he seems happy</td>\n",
              "    </tr>\n",
              "    <tr>\n",
              "      <th>9999</th>\n",
              "      <td>tom is unprepared</td>\n",
              "      <td>tom is</td>\n",
              "    </tr>\n",
              "  </tbody>\n",
              "</table>\n",
              "</div>"
            ],
            "text/plain": [
              "                    actual               predicted\n",
              "9985     this is all on me  i crossed the bill    \n",
              "9986      did you ever try  did you ever it yet   \n",
              "9987    i know tom is fast      i know tom is a   \n",
              "9988    where did i put it   where did i put it   \n",
              "9989     i was helping tom       i helped tom     \n",
              "9990     tom seems excited     tom seems busy     \n",
              "9991       i wont tell you     i wont tell you    \n",
              "9992             whos sick          who rich      \n",
              "9993   the auction is over    the partys over     \n",
              "9994       now we know why        we  know why    \n",
              "9995    my mailbox is full    my inbox is full    \n",
              "9996    mary is a waitress         mary is an     \n",
              "9997      i need more room        i need more     \n",
              "9998  he seems quite happy     he seems happy     \n",
              "9999     tom is unprepared            tom is      "
            ]
          },
          "metadata": {
            "tags": []
          },
          "execution_count": 31
        }
      ]
    },
    {
      "cell_type": "code",
      "metadata": {
        "colab": {
          "base_uri": "https://localhost:8080/",
          "height": 514
        },
        "id": "xEYwdT1X4pg2",
        "outputId": "bdefcc35-9754-458a-f2b6-d3ac1403e17b"
      },
      "source": [
        "pred_df.tail(15)"
      ],
      "execution_count": 32,
      "outputs": [
        {
          "output_type": "execute_result",
          "data": {
            "text/html": [
              "<div>\n",
              "<style scoped>\n",
              "    .dataframe tbody tr th:only-of-type {\n",
              "        vertical-align: middle;\n",
              "    }\n",
              "\n",
              "    .dataframe tbody tr th {\n",
              "        vertical-align: top;\n",
              "    }\n",
              "\n",
              "    .dataframe thead th {\n",
              "        text-align: right;\n",
              "    }\n",
              "</style>\n",
              "<table border=\"1\" class=\"dataframe\">\n",
              "  <thead>\n",
              "    <tr style=\"text-align: right;\">\n",
              "      <th></th>\n",
              "      <th>actual</th>\n",
              "      <th>predicted</th>\n",
              "    </tr>\n",
              "  </thead>\n",
              "  <tbody>\n",
              "    <tr>\n",
              "      <th>9985</th>\n",
              "      <td>this is all on me</td>\n",
              "      <td>i crossed the bill</td>\n",
              "    </tr>\n",
              "    <tr>\n",
              "      <th>9986</th>\n",
              "      <td>did you ever try</td>\n",
              "      <td>did you ever it yet</td>\n",
              "    </tr>\n",
              "    <tr>\n",
              "      <th>9987</th>\n",
              "      <td>i know tom is fast</td>\n",
              "      <td>i know tom is a</td>\n",
              "    </tr>\n",
              "    <tr>\n",
              "      <th>9988</th>\n",
              "      <td>where did i put it</td>\n",
              "      <td>where did i put it</td>\n",
              "    </tr>\n",
              "    <tr>\n",
              "      <th>9989</th>\n",
              "      <td>i was helping tom</td>\n",
              "      <td>i helped tom</td>\n",
              "    </tr>\n",
              "    <tr>\n",
              "      <th>9990</th>\n",
              "      <td>tom seems excited</td>\n",
              "      <td>tom seems busy</td>\n",
              "    </tr>\n",
              "    <tr>\n",
              "      <th>9991</th>\n",
              "      <td>i wont tell you</td>\n",
              "      <td>i wont tell you</td>\n",
              "    </tr>\n",
              "    <tr>\n",
              "      <th>9992</th>\n",
              "      <td>whos sick</td>\n",
              "      <td>who rich</td>\n",
              "    </tr>\n",
              "    <tr>\n",
              "      <th>9993</th>\n",
              "      <td>the auction is over</td>\n",
              "      <td>the partys over</td>\n",
              "    </tr>\n",
              "    <tr>\n",
              "      <th>9994</th>\n",
              "      <td>now we know why</td>\n",
              "      <td>we  know why</td>\n",
              "    </tr>\n",
              "    <tr>\n",
              "      <th>9995</th>\n",
              "      <td>my mailbox is full</td>\n",
              "      <td>my inbox is full</td>\n",
              "    </tr>\n",
              "    <tr>\n",
              "      <th>9996</th>\n",
              "      <td>mary is a waitress</td>\n",
              "      <td>mary is an</td>\n",
              "    </tr>\n",
              "    <tr>\n",
              "      <th>9997</th>\n",
              "      <td>i need more room</td>\n",
              "      <td>i need more</td>\n",
              "    </tr>\n",
              "    <tr>\n",
              "      <th>9998</th>\n",
              "      <td>he seems quite happy</td>\n",
              "      <td>he seems happy</td>\n",
              "    </tr>\n",
              "    <tr>\n",
              "      <th>9999</th>\n",
              "      <td>tom is unprepared</td>\n",
              "      <td>tom is</td>\n",
              "    </tr>\n",
              "  </tbody>\n",
              "</table>\n",
              "</div>"
            ],
            "text/plain": [
              "                    actual               predicted\n",
              "9985     this is all on me  i crossed the bill    \n",
              "9986      did you ever try  did you ever it yet   \n",
              "9987    i know tom is fast      i know tom is a   \n",
              "9988    where did i put it   where did i put it   \n",
              "9989     i was helping tom       i helped tom     \n",
              "9990     tom seems excited     tom seems busy     \n",
              "9991       i wont tell you     i wont tell you    \n",
              "9992             whos sick          who rich      \n",
              "9993   the auction is over    the partys over     \n",
              "9994       now we know why        we  know why    \n",
              "9995    my mailbox is full    my inbox is full    \n",
              "9996    mary is a waitress         mary is an     \n",
              "9997      i need more room        i need more     \n",
              "9998  he seems quite happy     he seems happy     \n",
              "9999     tom is unprepared            tom is      "
            ]
          },
          "metadata": {
            "tags": []
          },
          "execution_count": 32
        }
      ]
    },
    {
      "cell_type": "code",
      "metadata": {
        "colab": {
          "base_uri": "https://localhost:8080/",
          "height": 514
        },
        "id": "5w-irVC04pg3",
        "outputId": "bb3e4785-863c-485b-a09b-b446b2666d75"
      },
      "source": [
        "pred_df.sample(15)"
      ],
      "execution_count": 33,
      "outputs": [
        {
          "output_type": "execute_result",
          "data": {
            "text/html": [
              "<div>\n",
              "<style scoped>\n",
              "    .dataframe tbody tr th:only-of-type {\n",
              "        vertical-align: middle;\n",
              "    }\n",
              "\n",
              "    .dataframe tbody tr th {\n",
              "        vertical-align: top;\n",
              "    }\n",
              "\n",
              "    .dataframe thead th {\n",
              "        text-align: right;\n",
              "    }\n",
              "</style>\n",
              "<table border=\"1\" class=\"dataframe\">\n",
              "  <thead>\n",
              "    <tr style=\"text-align: right;\">\n",
              "      <th></th>\n",
              "      <th>actual</th>\n",
              "      <th>predicted</th>\n",
              "    </tr>\n",
              "  </thead>\n",
              "  <tbody>\n",
              "    <tr>\n",
              "      <th>6449</th>\n",
              "      <td>i feel very good</td>\n",
              "      <td>i feel great</td>\n",
              "    </tr>\n",
              "    <tr>\n",
              "      <th>2290</th>\n",
              "      <td>i forget her name</td>\n",
              "      <td>im not</td>\n",
              "    </tr>\n",
              "    <tr>\n",
              "      <th>4614</th>\n",
              "      <td>that is intriguing</td>\n",
              "      <td>that is</td>\n",
              "    </tr>\n",
              "    <tr>\n",
              "      <th>3099</th>\n",
              "      <td>you must not smoke</td>\n",
              "      <td>you must not smoke</td>\n",
              "    </tr>\n",
              "    <tr>\n",
              "      <th>1083</th>\n",
              "      <td>tom has lung cancer</td>\n",
              "      <td>tom has mute</td>\n",
              "    </tr>\n",
              "    <tr>\n",
              "      <th>8839</th>\n",
              "      <td>dont be a baby</td>\n",
              "      <td>dont pick your legs</td>\n",
              "    </tr>\n",
              "    <tr>\n",
              "      <th>5081</th>\n",
              "      <td>i wont tell tom</td>\n",
              "      <td>i wont tell tom</td>\n",
              "    </tr>\n",
              "    <tr>\n",
              "      <th>4236</th>\n",
              "      <td>people love freedom</td>\n",
              "      <td>this was got sense</td>\n",
              "    </tr>\n",
              "    <tr>\n",
              "      <th>2220</th>\n",
              "      <td>i know tom is deaf</td>\n",
              "      <td>i know tom is</td>\n",
              "    </tr>\n",
              "    <tr>\n",
              "      <th>8458</th>\n",
              "      <td>is this your letter</td>\n",
              "      <td>is this your yours</td>\n",
              "    </tr>\n",
              "    <tr>\n",
              "      <th>70</th>\n",
              "      <td>i know you have it</td>\n",
              "      <td>i know you like it</td>\n",
              "    </tr>\n",
              "    <tr>\n",
              "      <th>5125</th>\n",
              "      <td>i am a good boy</td>\n",
              "      <td>im a good</td>\n",
              "    </tr>\n",
              "    <tr>\n",
              "      <th>9962</th>\n",
              "      <td>tom is scolding mary</td>\n",
              "      <td>tom is extremely</td>\n",
              "    </tr>\n",
              "    <tr>\n",
              "      <th>8237</th>\n",
              "      <td>when did you buy it</td>\n",
              "      <td>when did you buy it</td>\n",
              "    </tr>\n",
              "    <tr>\n",
              "      <th>7436</th>\n",
              "      <td>wait dont shoot</td>\n",
              "      <td>please dont shoot</td>\n",
              "    </tr>\n",
              "  </tbody>\n",
              "</table>\n",
              "</div>"
            ],
            "text/plain": [
              "                    actual                predicted\n",
              "6449      i feel very good        i feel great     \n",
              "2290     i forget her name             im not      \n",
              "4614    that is intriguing            that is      \n",
              "3099    you must not smoke   you must not smoke    \n",
              "1083   tom has lung cancer        tom has mute     \n",
              "8839        dont be a baby  dont pick your legs    \n",
              "5081       i wont tell tom      i wont tell tom    \n",
              "4236   people love freedom   this was got sense    \n",
              "2220    i know tom is deaf        i know tom is    \n",
              "8458   is this your letter   is this your yours    \n",
              "70      i know you have it    i know you like it   \n",
              "5125       i am a good boy           im a good     \n",
              "9962  tom is scolding mary    tom is extremely     \n",
              "8237   when did you buy it   when did you buy it   \n",
              "7436       wait dont shoot   please dont shoot     "
            ]
          },
          "metadata": {
            "tags": []
          },
          "execution_count": 33
        }
      ]
    }
  ]
}