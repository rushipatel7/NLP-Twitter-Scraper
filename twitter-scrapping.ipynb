{
 "cells": [
  {
   "cell_type": "code",
   "execution_count": 98,
   "metadata": {},
   "outputs": [],
   "source": [
    "import tweepy\n",
    "import csv\n",
    "import time\n",
    "import pandas as pd"
   ]
  },
  {
   "cell_type": "markdown",
   "metadata": {},
   "source": [
    "# API And Access Token\n"
   ]
  },
  {
   "cell_type": "code",
   "execution_count": 99,
   "metadata": {},
   "outputs": [],
   "source": [
    "consumer_key = \"\"\n",
    "consumer_secret = \"\"\n",
    "access_token = \"\"\n",
    "access_token_secret = \"\""
   ]
  },
  {
   "cell_type": "code",
   "execution_count": 100,
   "metadata": {},
   "outputs": [
    {
     "name": "stdout",
     "output_type": "stream",
     "text": [
      "<tweepy.cursor.ItemIterator object at 0x0000015D5F1A4940>\n"
     ]
    }
   ],
   "source": [
    "auth = tweepy.OAuthHandler(consumer_key, consumer_secret)\n",
    "auth.set_access_token(access_token, access_token_secret)\n",
    "api = tweepy.API(auth,wait_on_rate_limit=True)\n",
    "tweets_text  = tweepy.Cursor(api.search,q=\"blacklivesmatter -filter:retweets\",result_type=\"popular\",count=5,lang='en',tweet_mode='extended').items(5)\n",
    "print(tweets_text)"
   ]
  },
  {
   "cell_type": "code",
   "execution_count": 101,
   "metadata": {},
   "outputs": [
    {
     "name": "stdout",
     "output_type": "stream",
     "text": [
      "Sky Sports Cricket 2020-07-08 10:24:04 \"Until we educate the entire human race, this thing will not stop.\" \n",
      "\n",
      "Michael Holding delivers a powerful message, explaining why #BlackLivesMatter.\n",
      "Sky Sports Cricket 2020-07-08 10:37:21 \"We've all been looking away for too long.\" \n",
      "\n",
      "@nassercricket opens up on his experiences of racism, the impact of the killing of George Floyd and why people should be proud to wear #BlackLivesMatter badges.\n",
      "Sky Sports Cricket 2020-07-08 10:08:16 \"If you don't educate people, they'll keep growing up in that sort of society and you'll not get meaningful change.\" \n",
      "\n",
      "Michael Holding and @ejrainfordbrent say that institutionalised racism must be eradicated for the good of humanity. #BlackLivesMatter\n",
      "KCBS 106.9 FM/740 AM 2020-07-07 22:41:40 BREAKING: The #Martinez couple caught on video painting over the approved #BlackLivesMatter mural on #FourthofJuly are being charged with a hate crime, according to a release from the #ContraCostaCounty District Attorney's office.\n",
      "Cincinnati Reds 2020-07-07 20:06:40 That's our first baseman. \n",
      "\n",
      "#BlackLivesMatter\n"
     ]
    }
   ],
   "source": [
    "tweets_dict ={}\n",
    "tweets_no = 0\n",
    "for tweet in tweets_text:\n",
    "    tweet.full_text = [x for x in tweet.full_text.split(' ')[:-1]]\n",
    "    tweet.full_text = ' '.join(tweet.full_text)\n",
    "    print(tweet.user.name,tweet.created_at, tweet.full_text)\n",
    "    tweets_no += 1\n",
    "    tweets_dict[tweets_no] = [tweet.user.name,tweet.created_at, tweet.full_text]"
   ]
  },
  {
   "cell_type": "code",
   "execution_count": 102,
   "metadata": {},
   "outputs": [],
   "source": [
    "df = pd.DataFrame.from_dict(tweets_dict,orient='index',columns=['username','time','tweet'])"
   ]
  },
  {
   "cell_type": "code",
   "execution_count": 103,
   "metadata": {},
   "outputs": [
    {
     "data": {
      "text/html": [
       "<div>\n",
       "<style scoped>\n",
       "    .dataframe tbody tr th:only-of-type {\n",
       "        vertical-align: middle;\n",
       "    }\n",
       "\n",
       "    .dataframe tbody tr th {\n",
       "        vertical-align: top;\n",
       "    }\n",
       "\n",
       "    .dataframe thead th {\n",
       "        text-align: right;\n",
       "    }\n",
       "</style>\n",
       "<table border=\"1\" class=\"dataframe\">\n",
       "  <thead>\n",
       "    <tr style=\"text-align: right;\">\n",
       "      <th></th>\n",
       "      <th>username</th>\n",
       "      <th>time</th>\n",
       "      <th>tweet</th>\n",
       "    </tr>\n",
       "  </thead>\n",
       "  <tbody>\n",
       "    <tr>\n",
       "      <th>1</th>\n",
       "      <td>Sky Sports Cricket</td>\n",
       "      <td>2020-07-08 10:24:04</td>\n",
       "      <td>\"Until we educate the entire human race, this ...</td>\n",
       "    </tr>\n",
       "    <tr>\n",
       "      <th>2</th>\n",
       "      <td>Sky Sports Cricket</td>\n",
       "      <td>2020-07-08 10:37:21</td>\n",
       "      <td>\"We've all been looking away for too long.\" \\n...</td>\n",
       "    </tr>\n",
       "    <tr>\n",
       "      <th>3</th>\n",
       "      <td>Sky Sports Cricket</td>\n",
       "      <td>2020-07-08 10:08:16</td>\n",
       "      <td>\"If you don't educate people, they'll keep gro...</td>\n",
       "    </tr>\n",
       "    <tr>\n",
       "      <th>4</th>\n",
       "      <td>KCBS 106.9 FM/740 AM</td>\n",
       "      <td>2020-07-07 22:41:40</td>\n",
       "      <td>BREAKING: The #Martinez couple caught on video...</td>\n",
       "    </tr>\n",
       "    <tr>\n",
       "      <th>5</th>\n",
       "      <td>Cincinnati Reds</td>\n",
       "      <td>2020-07-07 20:06:40</td>\n",
       "      <td>That's our first baseman. \\n\\n#BlackLivesMatter</td>\n",
       "    </tr>\n",
       "  </tbody>\n",
       "</table>\n",
       "</div>"
      ],
      "text/plain": [
       "               username                time  \\\n",
       "1    Sky Sports Cricket 2020-07-08 10:24:04   \n",
       "2    Sky Sports Cricket 2020-07-08 10:37:21   \n",
       "3    Sky Sports Cricket 2020-07-08 10:08:16   \n",
       "4  KCBS 106.9 FM/740 AM 2020-07-07 22:41:40   \n",
       "5       Cincinnati Reds 2020-07-07 20:06:40   \n",
       "\n",
       "                                               tweet  \n",
       "1  \"Until we educate the entire human race, this ...  \n",
       "2  \"We've all been looking away for too long.\" \\n...  \n",
       "3  \"If you don't educate people, they'll keep gro...  \n",
       "4  BREAKING: The #Martinez couple caught on video...  \n",
       "5    That's our first baseman. \\n\\n#BlackLivesMatter  "
      ]
     },
     "execution_count": 103,
     "metadata": {},
     "output_type": "execute_result"
    }
   ],
   "source": [
    "df"
   ]
  },
  {
   "cell_type": "code",
   "execution_count": 105,
   "metadata": {},
   "outputs": [],
   "source": [
    "df.to_csv('tweet.csv',index=False,encoding='utf-8-sig')"
   ]
  },
  {
   "cell_type": "code",
   "execution_count": null,
   "metadata": {},
   "outputs": [],
   "source": []
  },
  {
   "cell_type": "code",
   "execution_count": null,
   "metadata": {},
   "outputs": [],
   "source": []
  }
 ],
 "metadata": {
  "kernelspec": {
   "display_name": "Python 3",
   "language": "python",
   "name": "python3"
  },
  "language_info": {
   "codemirror_mode": {
    "name": "ipython",
    "version": 3
   },
   "file_extension": ".py",
   "mimetype": "text/x-python",
   "name": "python",
   "nbconvert_exporter": "python",
   "pygments_lexer": "ipython3",
   "version": "3.6.8"
  }
 },
 "nbformat": 4,
 "nbformat_minor": 4
}
